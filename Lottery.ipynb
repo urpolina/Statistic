{
  "nbformat": 4,
  "nbformat_minor": 0,
  "metadata": {
    "colab": {
      "provenance": [],
      "authorship_tag": "ABX9TyMAnKRlcT22pOQE1Mg8khIc"
    },
    "kernelspec": {
      "name": "python3",
      "display_name": "Python 3"
    },
    "language_info": {
      "name": "python"
    }
  },
  "cells": [
    {
      "cell_type": "markdown",
      "source": [
        "Смоделируем игру против лотерейного автомата типа “777”. Игрок платит 1 руб., после чего выпадает случайное целое число, равномерно распределенное от 0 до 999. При некоторых значениях числа игрок получает выигрыш.\n",
        "\n",
        "777: 200 руб.\\\n",
        "999: 100 руб.\\\n",
        "555: 50 руб.\\\n",
        "333: 15 руб.\\\n",
        "111: 10 руб.\\\n",
        "*77: 5 руб.\\\n",
        "**7: 3 руб.\\\n",
        "*00: 2 руб.\\\n",
        "**0: 1 руб.\n",
        "\n",
        "Вопросы:\n",
        "\n",
        "* Выгодна ли игра игроку?\n",
        "* Сколько в среднем приобретает или теряет игрок за одну игру?"
      ],
      "metadata": {
        "id": "FzZXUZlzVfbo"
      }
    },
    {
      "cell_type": "code",
      "source": [
        "import numpy as np"
      ],
      "metadata": {
        "id": "a7tdFkJymfLl"
      },
      "execution_count": null,
      "outputs": []
    },
    {
      "cell_type": "code",
      "execution_count": null,
      "metadata": {
        "id": "9D2ua_OEVSd5",
        "colab": {
          "base_uri": "https://localhost:8080/"
        },
        "outputId": "44890488-0ee2-4c26-9e9d-b4f6fc810421"
      },
      "outputs": [
        {
          "output_type": "stream",
          "name": "stdout",
          "text": [
            "Проигрыш: -193450 руб. c 1000000 руб. Игра не выгодна.\n"
          ]
        }
      ],
      "source": [
        "trials = 1000000    # Количество попыток\n",
        "fails = 0   # Количество проигрышей\n",
        "successes = 0   # Сумма выигрышей\n",
        "\n",
        "for i in range(trials):\n",
        "  random_score = np.random.randint(0, 1000)   # Случайное число от 0 до 999\n",
        "  if random_score == 777:\n",
        "    successes += 200\n",
        "  elif random_score == 999:\n",
        "    successes += 100\n",
        "  elif random_score == 555:\n",
        "    successes += 50\n",
        "  elif random_score == 333:\n",
        "    successes += 15\n",
        "  elif random_score == 111:\n",
        "    successes += 10\n",
        "  elif random_score % 100 == 77:\n",
        "    successes += 5\n",
        "  elif random_score % 10 == 7:\n",
        "    successes += 3\n",
        "  elif random_score % 100 == 0:\n",
        "    successes += 2\n",
        "  elif random_score % 10 == 0:\n",
        "    successes += 1\n",
        "  else:\n",
        "        None\n",
        "        fails += 1\n",
        "\n",
        "# print (successes, fails)\n",
        "profit = successes - trials\n",
        "if profit > 0:\n",
        "    print('Выигрыш:', profit, 'руб. c', trials, 'руб. Игра выгодна.')\n",
        "else:\n",
        "    print('Проигрыш:', profit, 'руб. c', trials, 'руб. Игра не выгодна.')"
      ]
    },
    {
      "cell_type": "code",
      "source": [
        "# чтобы узнать сколько в среднем приобретает или теряет игрок за одну игру проведем 1000 игр\n",
        "games = 1000\n",
        "profit_games = 0\n",
        "\n",
        "for x in range(games):\n",
        "    trials = 1000\n",
        "    successes = 0\n",
        "    fails = 0\n",
        "    for i in range(trials):\n",
        "        random_score = np.random.randint(0, 1000)   # Случайное число от 0 до 999\n",
        "        if random_score == 777:\n",
        "            successes += 200\n",
        "        elif random_score == 999:\n",
        "            successes += 100\n",
        "        elif random_score == 555:\n",
        "            successes += 50\n",
        "        elif random_score == 333:\n",
        "            successes += 15\n",
        "        elif random_score == 111:\n",
        "            successes += 10\n",
        "        elif random_score % 100 == 77:\n",
        "            successes += 5\n",
        "        elif random_score % 10 == 7:\n",
        "            successes += 3\n",
        "        elif random_score % 100 == 0:\n",
        "            successes += 2\n",
        "        elif random_score % 10 == 0:\n",
        "            successes += 1\n",
        "        else:\n",
        "            None\n",
        "            fails += 1\n",
        "    profit = successes - trials\n",
        "    profit_games += profit\n",
        "avarage_profit = round(profit_games / games)\n",
        "if avarage_profit > 0:\n",
        "    print('В среднем игрок приобретает', avarage_profit, 'руб. за одну игру c количеством попыток', trials, 'руб.')\n",
        "else:\n",
        "    print('В среднем игрок теряет', avarage_profit, 'руб. за одну игру c количеством попыток', trials)"
      ],
      "metadata": {
        "colab": {
          "base_uri": "https://localhost:8080/"
        },
        "id": "OknpWf3wtB15",
        "outputId": "91aa055d-1cda-468e-deef-6bb57a7515ba"
      },
      "execution_count": null,
      "outputs": [
        {
          "output_type": "stream",
          "name": "stdout",
          "text": [
            "В среднем игрок теряет -206 руб. за одну игру c количеством попыток 1000\n"
          ]
        }
      ]
    },
    {
      "cell_type": "markdown",
      "source": [
        "Рассчитаем теоретически средний выигрыш (проигрыш) и сравним с результатами моделирования\\\n",
        "777: 200 руб.  1/1000\\\n",
        "999: 100 руб.  1/1000\\\n",
        "555: 50 руб.  1/1000\\\n",
        "333: 15 руб.  1/1000\\\n",
        "111: 10 руб.  1/1000\\\n",
        "-77: 5 руб.  9/1000\\\n",
        "--7: 3 руб.  90/1000\\\n",
        "-00: 2 руб.  10/1000\\\n",
        "--0: 1 руб.  90/1000"
      ],
      "metadata": {
        "id": "C_l8Hemo2zuH"
      }
    },
    {
      "cell_type": "code",
      "source": [
        "p = ((200 + 100 + 50 + 15 + 10) + (9 * 5) + (90 * 3) + (10 * 2) + (90 * 1)) / 1000\n",
        "t = 1000\n",
        "print (f'Теоретически с каждой {t} руб. игрок заработает {t * p} руб., таким образом проигрыш составит {t -(t * p)} руб.')"
      ],
      "metadata": {
        "colab": {
          "base_uri": "https://localhost:8080/"
        },
        "id": "HeY6mHg-3flH",
        "outputId": "7ba5ed87-452d-4b44-bd17-b283cbdae074"
      },
      "execution_count": null,
      "outputs": [
        {
          "output_type": "stream",
          "name": "stdout",
          "text": [
            "Теоретически с каждой 1000 руб. игрок заработает 800.0 руб., таким образом проигрыш составит 200.0 руб.\n"
          ]
        }
      ]
    }
  ]
}